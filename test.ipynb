{
 "cells": [
  {
   "cell_type": "markdown",
   "id": "d223ba07",
   "metadata": {},
   "source": [
    "# Getting Started\n",
    "Antes de mais nada precisamos definir as configuracoes de conexao com o git(necessario Token). <br>\n",
    "Para isso, existe o gitConnection para gerenciar autenticação, leitura e escrita no repositório."
   ]
  },
  {
   "cell_type": "code",
   "execution_count": 1,
   "id": "a6330e21",
   "metadata": {},
   "outputs": [
    {
     "name": "stderr",
     "output_type": "stream",
     "text": [
      "2025-08-08 19:46:47,214 [INFO] Git connection configured for repository 'gitdb' (owner: 'carlosCorvaum').\n"
     ]
    }
   ],
   "source": [
    "import os\n",
    "from dotenv import load_dotenv\n",
    "load_dotenv()\n",
    "\n",
    "from gitlake import GitConnection\n",
    "\n",
    "REPO_URL = os.getenv(\"REPO_URL\")\n",
    "GIT_TOKEN = os.getenv(\"GIT_TOKEN\")\n",
    "\n",
    "# Instancia a conexão com o GitHub\n",
    "git = GitConnection(\n",
    "    repo_url=REPO_URL,\n",
    "    username=\"gitlake\",\n",
    "    token=GIT_TOKEN,  # <- Agora usa o valor real da variável\n",
    "    branch=\"main\",\n",
    ")"
   ]
  },
  {
   "cell_type": "markdown",
   "id": "3235b6b4",
   "metadata": {},
   "source": [
    "# Gerenciando coleções\n",
    "Para gerenciar nossas coleções de dados, existe o CollectionManager. <br>\n",
    "Ele permite criar, listar, salvar, ler e excluir coleções de DataFrames armazenadas no GitHub, mantendo um registro central (collections_registry.json)."
   ]
  },
  {
   "cell_type": "code",
   "execution_count": 7,
   "id": "2aab91a0",
   "metadata": {},
   "outputs": [
    {
     "name": "stderr",
     "output_type": "stream",
     "text": [
      "2025-08-08 19:52:53,603 [INFO] 📥 Reading DataFrame from 'metadata/collections_registry.json' on GitHub...\n",
      "2025-08-08 19:52:53,604 [INFO] 🔽 Downloading file from: https://api.github.com/repos/carlosCorvaum/gitdb/contents/metadata/collections_registry.json\n",
      "2025-08-08 19:52:53,869 [WARNING] No collections registered yet.\n",
      "2025-08-08 19:52:53,870 [INFO] CollectionManager initialized.\n",
      "2025-08-08 19:52:53,870 [INFO] 📥 Reading DataFrame from 'metadata/collections_registry.json' on GitHub...\n",
      "2025-08-08 19:52:53,871 [INFO] 🔽 Downloading file from: https://api.github.com/repos/carlosCorvaum/gitdb/contents/metadata/collections_registry.json\n",
      "2025-08-08 19:52:54,114 [WARNING] No collections registered yet.\n",
      "2025-08-08 19:52:54,115 [INFO] 📥 Reading DataFrame from 'metadata/collections_registry.json' on GitHub...\n",
      "2025-08-08 19:52:54,115 [INFO] 🔽 Downloading file from: https://api.github.com/repos/carlosCorvaum/gitdb/contents/metadata/collections_registry.json\n",
      "2025-08-08 19:52:54,348 [WARNING] No collections registered yet.\n",
      "2025-08-08 19:52:55,061 [INFO] ✅ File 'metadata/collections_registry.json' successfully uploaded to GitHub.\n",
      "2025-08-08 19:52:55,062 [INFO] 📄 Collections metadata updated.\n",
      "2025-08-08 19:52:55,062 [INFO] 📥 Reading DataFrame from 'metadata/collections_registry.json' on GitHub...\n",
      "2025-08-08 19:52:55,063 [INFO] 🔽 Downloading file from: https://api.github.com/repos/carlosCorvaum/gitdb/contents/metadata/collections_registry.json\n",
      "2025-08-08 19:52:55,322 [INFO] 📦 File found in the repository.\n",
      "2025-08-08 19:52:55,325 [INFO] ✅ DataFrame successfully loaded from 'metadata/collections_registry.json'.\n",
      "2025-08-08 19:52:55,326 [INFO] 📖 Collections metadata loaded successfully.\n",
      "2025-08-08 19:52:56,130 [INFO] ✅ File 'concessionaria/veiculos/seminovos.parquet' successfully uploaded to GitHub.\n",
      "2025-08-08 19:52:56,131 [INFO] 📁 Folder for collection 'veiculos_seminovos' created.\n",
      "2025-08-08 19:52:56,131 [INFO] ✅ Collection 'veiculos_seminovos' created successfully.\n"
     ]
    },
    {
     "name": "stdout",
     "output_type": "stream",
     "text": [
      "✅ Coleção criada\n"
     ]
    }
   ],
   "source": [
    "from gitlake import Collection, CollectionManager\n",
    "\n",
    "cm = CollectionManager(git) #Falamos qual conexao o CollectionManager vai conectar para gerenciar as colecoes.\n",
    "\n",
    "# Cria um novo Collection local\n",
    "concessionaria_veiculos_seminovos = Collection(\n",
    "    name=\"veiculos_seminovos\",\n",
    "    base_path=\"concessionaria\",\n",
    "    path=\"veiculos/seminovos\",\n",
    "    format=\"parquet\"\n",
    ")\n",
    "\n",
    "# Registra a collection no repositorio\n",
    "if cm.create_collection(concessionaria_veiculos_seminovos):\n",
    "    print(\"✅ Coleção criada\")\n",
    "else:\n",
    "    print(\"⚠️ A coleção já existe\")"
   ]
  },
  {
   "cell_type": "markdown",
   "id": "26fb1c53",
   "metadata": {},
   "source": [
    "# Persistindo e lendo coleções"
   ]
  },
  {
   "cell_type": "code",
   "execution_count": null,
   "id": "2c52e2c5",
   "metadata": {},
   "outputs": [
    {
     "name": "stderr",
     "output_type": "stream",
     "text": [
      "2025-08-08 19:54:58,566 [INFO] 📥 Reading DataFrame from 'metadata/collections_registry.json' on GitHub...\n",
      "2025-08-08 19:54:58,566 [INFO] 🔽 Downloading file from: https://api.github.com/repos/carlosCorvaum/gitdb/contents/metadata/collections_registry.json\n",
      "2025-08-08 19:54:58,821 [INFO] 📦 File found in the repository.\n",
      "2025-08-08 19:54:58,825 [INFO] ✅ DataFrame successfully loaded from 'metadata/collections_registry.json'.\n",
      "2025-08-08 19:54:58,825 [INFO] 📖 Collections metadata loaded successfully.\n",
      "2025-08-08 19:54:59,733 [INFO] ✅ File 'metadata/collections_registry.json' successfully uploaded to GitHub.\n",
      "2025-08-08 19:54:59,733 [INFO] 📄 Collections metadata updated.\n",
      "2025-08-08 19:55:00,007 [INFO] 📄 Append mode: reading existing data from 'concessionaria/veiculos/seminovos.parquet'\n",
      "2025-08-08 19:55:00,007 [INFO] 🔽 Downloading file from: https://api.github.com/repos/carlosCorvaum/gitdb/contents/concessionaria/veiculos/seminovos.parquet\n",
      "2025-08-08 19:55:00,314 [INFO] 📦 File found in the repository.\n",
      "2025-08-08 19:55:00,780 [INFO] ✅ File 'concessionaria/veiculos/seminovos.parquet' successfully uploaded to GitHub.\n",
      "2025-08-08 19:55:00,781 [INFO] ✅ Data saved to collection 'veiculos_seminovos'.\n"
     ]
    },
    {
     "data": {
      "text/plain": [
       "True"
      ]
     },
     "execution_count": 13,
     "metadata": {},
     "output_type": "execute_result"
    }
   ],
   "source": [
    "import pandas as pd\n",
    "\n",
    "# Criando o DataFrame de vendas de veículos\n",
    "df = pd.DataFrame({\n",
    "    \"Modelo\": [\"Gol\", \"Civic\", \"Corolla\", \"Onix\", \"Hilux\"],\n",
    "    \"Ano\": [2018, 2020, 2019, 2021, 2017],\n",
    "    \"KM\": [45000, 30000, 40000, 15000, 60000],\n",
    "    \"Preco\": [45000, 95000, 88000, 70000, 155000]\n",
    "})\n",
    "\n",
    "#Salva o dataframe usando save_dataframe do CollectionManager\n",
    "cm.save_dataframe(df=df, collection_name=\"veiculos_seminovos\", mode=\"overwrite\")"
   ]
  },
  {
   "cell_type": "code",
   "execution_count": 15,
   "id": "3c9ce687",
   "metadata": {},
   "outputs": [
    {
     "name": "stderr",
     "output_type": "stream",
     "text": [
      "2025-08-08 19:55:16,582 [INFO] 📥 Reading DataFrame from 'metadata/collections_registry.json' on GitHub...\n",
      "2025-08-08 19:55:16,583 [INFO] 🔽 Downloading file from: https://api.github.com/repos/carlosCorvaum/gitdb/contents/metadata/collections_registry.json\n",
      "2025-08-08 19:55:16,837 [INFO] 📦 File found in the repository.\n",
      "2025-08-08 19:55:16,840 [INFO] ✅ DataFrame successfully loaded from 'metadata/collections_registry.json'.\n",
      "2025-08-08 19:55:16,840 [INFO] 📖 Collections metadata loaded successfully.\n",
      "2025-08-08 19:55:16,841 [INFO] 📥 Reading DataFrame from 'concessionaria/veiculos/seminovos.parquet' on GitHub...\n",
      "2025-08-08 19:55:16,841 [INFO] 🔽 Downloading file from: https://api.github.com/repos/carlosCorvaum/gitdb/contents/concessionaria/veiculos/seminovos.parquet\n",
      "2025-08-08 19:55:17,137 [INFO] 📦 File found in the repository.\n",
      "2025-08-08 19:55:17,140 [INFO] ✅ DataFrame successfully loaded from 'concessionaria/veiculos/seminovos.parquet'.\n",
      "2025-08-08 19:55:17,140 [INFO] 📥 DataFrame loaded from collection 'veiculos_seminovos'.\n"
     ]
    },
    {
     "name": "stdout",
     "output_type": "stream",
     "text": [
      "    Modelo   Ano     KM   Preco\n",
      "0      Gol  2018  45000   45000\n",
      "1    Civic  2020  30000   95000\n",
      "2  Corolla  2019  40000   88000\n",
      "3     Onix  2021  15000   70000\n",
      "4    Hilux  2017  60000  155000\n",
      "5      Gol  2018  45000   45000\n",
      "6    Civic  2020  30000   95000\n",
      "7  Corolla  2019  40000   88000\n",
      "8     Onix  2021  15000   70000\n",
      "9    Hilux  2017  60000  155000\n"
     ]
    }
   ],
   "source": [
    "#Lendo a colecao:\n",
    "df= cm.read_dataframe(\"veiculos_seminovos\")\n",
    "print(df)"
   ]
  }
 ],
 "metadata": {
  "kernelspec": {
   "display_name": ".venv",
   "language": "python",
   "name": "python3"
  },
  "language_info": {
   "codemirror_mode": {
    "name": "ipython",
    "version": 3
   },
   "file_extension": ".py",
   "mimetype": "text/x-python",
   "name": "python",
   "nbconvert_exporter": "python",
   "pygments_lexer": "ipython3",
   "version": "3.10.11"
  }
 },
 "nbformat": 4,
 "nbformat_minor": 5
}
