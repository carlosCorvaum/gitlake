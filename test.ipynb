{
 "cells": [
  {
   "cell_type": "code",
   "execution_count": 20,
   "id": "946b7961",
   "metadata": {},
   "outputs": [
    {
     "name": "stdout",
     "output_type": "stream",
     "text": [
      "      Nome  Idade          Cidade  Salário\n",
      "0   Carlos     28       São Paulo     5000\n",
      "1     Joao     34  Rio de Janeiro     6500\n",
      "2   Afonso     25  Belo Horizonte     4800\n",
      "3  Osvaldo     30        Curitiba     5700\n"
     ]
    }
   ],
   "source": [
    "import pandas as pd\n",
    "from gitlake import GitConnection, CollectionManager, Collection\n",
    "\n",
    "# Criando um DataFrame de exemplo\n",
    "dados = {\n",
    "    \"Nome\": [\"Carlos\", \"Joao\", \"Afonso\", \"Osvaldo\"],\n",
    "    \"Idade\": [28, 34, 25, 30],\n",
    "    \"Cidade\": [\"São Paulo\", \"Rio de Janeiro\", \"Belo Horizonte\", \"Curitiba\"],\n",
    "    \"Salário\": [5000, 6500, 4800, 5700],\n",
    "}\n",
    "\n",
    "df = pd.DataFrame(dados)\n",
    "print(df)"
   ]
  },
  {
   "cell_type": "code",
   "execution_count": null,
   "id": "1cc4e470",
   "metadata": {},
   "outputs": [
    {
     "name": "stdout",
     "output_type": "stream",
     "text": [
      "Collecting dotenv\n",
      "  Using cached dotenv-0.9.9-py2.py3-none-any.whl.metadata (279 bytes)\n",
      "Collecting python-dotenv (from dotenv)\n",
      "  Using cached python_dotenv-1.1.1-py3-none-any.whl.metadata (24 kB)\n",
      "Using cached dotenv-0.9.9-py2.py3-none-any.whl (1.9 kB)\n",
      "Using cached python_dotenv-1.1.1-py3-none-any.whl (20 kB)\n",
      "Installing collected packages: python-dotenv, dotenv\n",
      "\n",
      "   ---------------------------------------- 2/2 [dotenv]\n",
      "\n",
      "Successfully installed dotenv-0.9.9 python-dotenv-1.1.1\n",
      "Note: you may need to restart the kernel to use updated packages.\n"
     ]
    }
   ],
   "source": [
    "import os\n",
    "from dotenv import load_dotenv\n",
    "\n",
    "load_dotenv()\n",
    "\n",
    "REPO_URL = os.getenv(\"REPO_URL\")\n",
    "GIT_TOKEN = os.getenv(\"GIT_TOKEN\")\n",
    "\n",
    "# Instancia a conexão com o GitHub\n",
    "git = GitConnection(\n",
    "    repo_url=REPO_URL,\n",
    "    username=\"gitlake\",\n",
    "    token=GIT_TOKEN,  # <- Agora usa o valor real da variável\n",
    "    branch=\"main\",\n",
    ")\n",
    "\n",
    "\n",
    "\n",
    "# Instanciando a conexão com o GitHub\n",
    "git = GitConnection(\n",
    "    repo_url=\"https://github.com/carlosCorvaum/gitlake.git\",\n",
    "    username=\"gitlake\",\n",
    "    token=\"GIT_TOKEN\", \n",
    "    branch=\"main\",\n",
    "    \n",
    ")"
   ]
  },
  {
   "cell_type": "code",
   "execution_count": 22,
   "id": "a6330e21",
   "metadata": {},
   "outputs": [
    {
     "name": "stdout",
     "output_type": "stream",
     "text": [
      "Nenhuma coleção registrada.\n"
     ]
    }
   ],
   "source": [
    "# Instanciando CollectionManager\n",
    "cm = CollectionManager(git)"
   ]
  },
  {
   "cell_type": "code",
   "execution_count": 28,
   "id": "2aab91a0",
   "metadata": {},
   "outputs": [],
   "source": [
    "# Cria um novo Collection local\n",
    "nova_collection = Collection(\n",
    "    name=\"funcionarios\", \n",
    "    base_path=\"funcionarios\",\n",
    "    path=\"clt\",\n",
    "    format=\"json\"\n",
    ")"
   ]
  },
  {
   "cell_type": "code",
   "execution_count": 29,
   "id": "3cd4b344",
   "metadata": {},
   "outputs": [
    {
     "name": "stdout",
     "output_type": "stream",
     "text": [
      "Collection(name='funcionarios', base_path='funcionarios', path='clt', format='json', created_at='2025-08-03T20:24:20.462345', updated_at=None)\n",
      "Nenhuma coleção registrada.\n",
      "Nenhuma coleção registrada.\n",
      "✅ Arquivo 'metadata/collections_registry.json' enviado com sucesso para o GitHub.\n",
      "✅ Arquivo 'funcionarios/clt.json' enviado com sucesso para o GitHub.\n",
      "Colecao 'funcionarios' criada com sucesso.\n",
      "✅ Coleção criada\n"
     ]
    }
   ],
   "source": [
    "print(nova_collection)\n",
    "# Registra a collection no repositorio\n",
    "if cm.create_collection(nova_collection):\n",
    "    print(\"✅ Coleção criada\")\n",
    "else:\n",
    "    print(\"⚠️ A coleção já existe\")"
   ]
  },
  {
   "cell_type": "code",
   "execution_count": 30,
   "id": "2c52e2c5",
   "metadata": {},
   "outputs": [
    {
     "name": "stdout",
     "output_type": "stream",
     "text": [
      "    Collection 'funcio' não existe.\n"
     ]
    },
    {
     "data": {
      "text/plain": [
       "False"
      ]
     },
     "execution_count": 30,
     "metadata": {},
     "output_type": "execute_result"
    }
   ],
   "source": [
    "#Testando salvamento para Table inexistente\n",
    "cm.save_dataframe(df=dados, collection_name=\"funcio\")"
   ]
  },
  {
   "cell_type": "code",
   "execution_count": 31,
   "id": "3c9ce687",
   "metadata": {},
   "outputs": [
    {
     "name": "stdout",
     "output_type": "stream",
     "text": [
      "✅ Arquivo 'metadata/collections_registry.json' enviado com sucesso para o GitHub.\n",
      "✅ Arquivo 'funcionarios/clt.json' enviado com sucesso para o GitHub.\n",
      "Dados salvos na collection 'funcionarios'.\n"
     ]
    },
    {
     "data": {
      "text/plain": [
       "True"
      ]
     },
     "execution_count": 31,
     "metadata": {},
     "output_type": "execute_result"
    }
   ],
   "source": [
    "#Testando salvamento para Collection\n",
    "cm.save_dataframe(df=df, collection_name=\"funcionarios\")"
   ]
  },
  {
   "cell_type": "code",
   "execution_count": 32,
   "id": "42605d0e",
   "metadata": {},
   "outputs": [
    {
     "name": "stdout",
     "output_type": "stream",
     "text": [
      "✅ Dados lidos da collection 'funcionarios'.\n",
      "      Nome  Idade          Cidade  Salário\n",
      "0   Carlos     28       São Paulo     5000\n",
      "1     Joao     34  Rio de Janeiro     6500\n",
      "2   Afonso     25  Belo Horizonte     4800\n",
      "3  Osvaldo     30        Curitiba     5700\n"
     ]
    }
   ],
   "source": [
    "df= cm.read_dataframe(\"funcionarios\")\n",
    "print(df)"
   ]
  },
  {
   "cell_type": "code",
   "execution_count": 33,
   "id": "24596894",
   "metadata": {},
   "outputs": [
    {
     "data": {
      "text/plain": [
       "[Collection(name='funcionarios', base_path='funcionarios', path='clt', format='json', created_at=Timestamp('2025-08-03 20:24:20.462000'), updated_at=Timestamp('2025-08-03 21:35:22.063556'))]"
      ]
     },
     "execution_count": 33,
     "metadata": {},
     "output_type": "execute_result"
    }
   ],
   "source": [
    "cm._get_collections()"
   ]
  },
  {
   "cell_type": "code",
   "execution_count": null,
   "id": "d95ad199",
   "metadata": {},
   "outputs": [],
   "source": [
    "cm.save_dataframe(df=df, collection_name=\"funcionarios\" mode= \"append\")"
   ]
  }
 ],
 "metadata": {
  "kernelspec": {
   "display_name": ".venv",
   "language": "python",
   "name": "python3"
  },
  "language_info": {
   "codemirror_mode": {
    "name": "ipython",
    "version": 3
   },
   "file_extension": ".py",
   "mimetype": "text/x-python",
   "name": "python",
   "nbconvert_exporter": "python",
   "pygments_lexer": "ipython3",
   "version": "3.10.11"
  }
 },
 "nbformat": 4,
 "nbformat_minor": 5
}
